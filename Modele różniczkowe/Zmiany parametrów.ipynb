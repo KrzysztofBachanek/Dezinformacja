{
 "cells": [
  {
   "cell_type": "markdown",
   "metadata": {},
   "source": [
    "# <center>Modelowanie epidemii dezinformacji</center>\n",
    "\n",
    "## <center> Prezentacja 3</center>\n",
    "\n",
    "##### <center> Symulacja modeli epidemiologicznych - część druga </center>"
   ]
  },
  {
   "cell_type": "markdown",
   "metadata": {},
   "source": [
    "# Różna parametryzacja modeli"
   ]
  },
  {
   "cell_type": "markdown",
   "metadata": {},
   "source": [
    "# Model SI"
   ]
  },
  {
   "cell_type": "code",
   "execution_count": 1,
   "metadata": {},
   "outputs": [],
   "source": [
    "import numpy as np\n",
    "import matplotlib.pyplot as plt\n",
    "from scipy.integrate import odeint\n",
    "from ipywidgets import interact, FloatSlider\n",
    "import warnings"
   ]
  },
  {
   "cell_type": "code",
   "execution_count": 2,
   "metadata": {},
   "outputs": [
    {
     "data": {
      "application/vnd.jupyter.widget-view+json": {
       "model_id": "93a721f5a2c244c991f2086f57bc2cc0",
       "version_major": 2,
       "version_minor": 0
      },
      "text/plain": [
       "interactive(children=(FloatSlider(value=0.2, description='Beta', max=0.9, min=0.1, step=0.05), Output()), _dom…"
      ]
     },
     "metadata": {},
     "output_type": "display_data"
    }
   ],
   "source": [
    "warnings.filterwarnings(\"ignore\") \n",
    "def si_model(y, t, beta, N):\n",
    "    S, I = y\n",
    "    dSdt = -beta * S * I / N  # Spadek liczby podatnych\n",
    "    dIdt = beta * S * I / N   # Wzrost liczby zakażonych\n",
    "    return [dSdt, dIdt]\n",
    "\n",
    "# Parametry\n",
    "N = 1000  # Całkowita populacja\n",
    "I0 = 1  # Początkowa liczba zakażonych\n",
    "S0 = N - I0  # Początkowa liczba podatnych\n",
    "\n",
    "# Przedział czasowy symulacji\n",
    "t = np.linspace(0, 200, 10000)\n",
    "\n",
    "def plot_si(beta):\n",
    "    solution = odeint(si_model, [S0, I0], t, args=(beta, N))\n",
    "    S, I = solution.T\n",
    "\n",
    "    plt.figure(figsize=(10, 5))\n",
    "    plt.plot(t, S, label='Susceptible (Podatni)', color='blue')\n",
    "    plt.plot(t, I, label='Infected (Zarażeni)', color='red')\n",
    "    plt.xlabel('Czas')\n",
    "    plt.ylabel('Liczność populacji')\n",
    "    plt.title(f'Symulacja modelu SI (beta = {beta:.2f})')\n",
    "    plt.legend()\n",
    "    plt.grid(True)\n",
    "    plt.show()\n",
    "\n",
    "interact(plot_si, beta=FloatSlider(value=0.2, min=0.1, max=0.9, step=0.05, description='Beta'));"
   ]
  },
  {
   "cell_type": "markdown",
   "metadata": {},
   "source": [
    "# Model SIS"
   ]
  },
  {
   "cell_type": "code",
   "execution_count": 3,
   "metadata": {},
   "outputs": [
    {
     "data": {
      "application/vnd.jupyter.widget-view+json": {
       "model_id": "aad56674b63c4842a3214a3f46776ef0",
       "version_major": 2,
       "version_minor": 0
      },
      "text/plain": [
       "interactive(children=(FloatSlider(value=0.2, description='Beta', max=1.0, step=0.05), FloatSlider(value=0.075,…"
      ]
     },
     "metadata": {},
     "output_type": "display_data"
    }
   ],
   "source": [
    "def sis_model(y, t, beta, gamma, N):\n",
    "    S, I = y\n",
    "    dSdt = -beta * S * I / N + gamma * I  # Spadek podatnych + powrót zarażonych do podatnych\n",
    "    dIdt = beta * S * I / N - gamma * I   # Nowe infekcje - ozdrowienia\n",
    "    return [dSdt, dIdt]\n",
    "\n",
    "# Parametry\n",
    "N = 1000   # Całkowita populacja\n",
    "I0 = 1    # Początkowa liczba zakażonych\n",
    "S0 = N - I0  # Początkowa liczba podatnych\n",
    "\n",
    "# Przedział czasowy symulacji\n",
    "t = np.linspace(0, 200, 10000)\n",
    "\n",
    "\n",
    "def plot_sis(beta, gamma):\n",
    "    solution = odeint(sis_model, [S0, I0], t, args=(beta, gamma, N))\n",
    "    S, I = solution.T\n",
    "\n",
    "    plt.figure(figsize=(10, 5))\n",
    "    plt.plot(t, S, label='Susceptible (Podatni)', color='blue')\n",
    "    plt.plot(t, I, label='Infected (Zarażeni)', color='red')\n",
    "    plt.xlabel('Czas')\n",
    "    plt.ylabel('Liczność populacji')\n",
    "    plt.title(f'Model SIS (β = {beta:.2f}, γ = {gamma:.2f})')\n",
    "    plt.legend()\n",
    "    plt.grid(True)\n",
    "    plt.show()\n",
    "\n",
    "interact(\n",
    "    plot_sis,\n",
    "    beta=FloatSlider(value=0.2, min=0.00, max=1.0, step=0.05, description='Beta'),\n",
    "    gamma=FloatSlider(value=0.075, min=0.01, max=0.5, step=0.01, description='Gamma')\n",
    ");"
   ]
  },
  {
   "cell_type": "markdown",
   "metadata": {},
   "source": [
    "# Model SIR"
   ]
  },
  {
   "cell_type": "code",
   "execution_count": 4,
   "metadata": {},
   "outputs": [
    {
     "data": {
      "application/vnd.jupyter.widget-view+json": {
       "model_id": "b7da85d1a70c42d285d7461406f0bf9a",
       "version_major": 2,
       "version_minor": 0
      },
      "text/plain": [
       "interactive(children=(FloatSlider(value=0.3, description='Beta', max=1.0, min=0.01, step=0.05), FloatSlider(va…"
      ]
     },
     "metadata": {},
     "output_type": "display_data"
    }
   ],
   "source": [
    "def sir_model(y, t, beta, gamma, N):\n",
    "    S, I, R = y\n",
    "    dSdt = -beta * S * I / N  # Spadek liczby podatnych\n",
    "    dIdt = beta * S * I / N - gamma * I  # Nowe infekcje - ozdrowienia\n",
    "    dRdt = gamma * I  # Wzrost liczby ozdrowieńców\n",
    "    return [dSdt, dIdt, dRdt]\n",
    "\n",
    "# Parametry\n",
    "N = 1000   # Całkowita populacja\n",
    "I0 = 10    # Początkowa liczba zakażonych\n",
    "S0 = N - I0  # Początkowa liczba podatnych\n",
    "R0 = 0     # Początkowa liczba ozdrowieńców\n",
    "\n",
    "# Przedział czasowy symulacji\n",
    "t = np.linspace(0, 200, 10000)\n",
    "\n",
    "# Funkcja do wizualizacji\n",
    "def plot_sir(beta, gamma):\n",
    "    solution = odeint(sir_model, [S0, I0, R0], t, args=(beta, gamma, N))\n",
    "    S, I, R = solution.T\n",
    "\n",
    "    plt.figure(figsize=(10, 5))\n",
    "    plt.plot(t, S, label='Susceptible (Podatni)', color='blue')\n",
    "    plt.plot(t, I, label='Infected (Zarażeni)', color='red')\n",
    "    plt.plot(t, R, label='Recovered (Wyleczeni)', color='green')\n",
    "    plt.xlabel('Czas')\n",
    "    plt.ylabel('Liczność populacji')\n",
    "    plt.title(f'Model SIR (β = {beta:.2f}, γ = {gamma:.2f})')\n",
    "    plt.legend()\n",
    "    plt.grid(True)\n",
    "    plt.show()\n",
    "\n",
    "interact(\n",
    "    plot_sir,\n",
    "    beta=FloatSlider(value=0.3, min=0.01, max=1.0, step=0.05, description='Beta'),\n",
    "    gamma=FloatSlider(value=0.1, min=0.01, max=0.5, step=0.01, description='Gamma')\n",
    ");"
   ]
  },
  {
   "cell_type": "markdown",
   "metadata": {},
   "source": [
    "# Model SEIR"
   ]
  },
  {
   "cell_type": "code",
   "execution_count": 5,
   "metadata": {},
   "outputs": [
    {
     "data": {
      "application/vnd.jupyter.widget-view+json": {
       "model_id": "289e6e001ac6400496a4b3d08bddf82f",
       "version_major": 2,
       "version_minor": 0
      },
      "text/plain": [
       "interactive(children=(FloatSlider(value=0.3, description='Beta', max=1.0, step=0.05), FloatSlider(value=0.2, d…"
      ]
     },
     "metadata": {},
     "output_type": "display_data"
    }
   ],
   "source": [
    "def seir_model(y, t, beta, sigma, gamma, N):\n",
    "    S, E, I, R = y\n",
    "    dSdt = -beta * S * I / N  # Spadek liczby podatnych\n",
    "    dEdt = beta * S * I / N - sigma * E  # Wzrost liczby narażonych - przejście do stadium zakaźnego\n",
    "    dIdt = sigma * E - gamma * I  # Osoby zakażone - ozdrowienia\n",
    "    dRdt = gamma * I  # Wzrost liczby ozdrowieńców\n",
    "    return [dSdt, dEdt, dIdt, dRdt]\n",
    "\n",
    "# Parametry\n",
    "N = 1000   # Całkowita populacja\n",
    "I0 = 10    # Początkowa liczba zakażonych\n",
    "E0 = 5     # Początkowa liczba osób w stadium inkubacji (narażonych)\n",
    "S0 = N - I0 - E0  # Początkowa liczba podatnych\n",
    "R0 = 0     # Początkowa liczba ozdrowieńców\n",
    "\n",
    "# Przedział czasowy symulacji\n",
    "t = np.linspace(0, 200, 10000)\n",
    "\n",
    "def plot_seir(beta, sigma, gamma):\n",
    "    solution = odeint(seir_model, [S0, E0, I0, R0], t, args=(beta, sigma, gamma, N))\n",
    "    S, E, I, R = solution.T\n",
    "\n",
    "    plt.figure(figsize=(10, 6))\n",
    "    plt.plot(t, S, label='Susceptible (Podatni)', color='blue')\n",
    "    plt.plot(t, E, label='Exposed (Narażeni)', color='orange')\n",
    "    plt.plot(t, I, label='Infected (Zarażeni)', color='red')\n",
    "    plt.plot(t, R, label='Recovered (Wyleczeni)', color='green')\n",
    "    plt.xlabel('Czas')\n",
    "    plt.ylabel('Liczność populacji')\n",
    "    plt.title(f'Model SEIR (β={beta:.2f}, σ={sigma:.2f}, γ={gamma:.2f})')\n",
    "    plt.legend()\n",
    "    plt.grid(True)\n",
    "    plt.show()\n",
    "\n",
    "interact(\n",
    "    plot_seir,\n",
    "    beta=FloatSlider(value=0.3, min=0.00, max=1.0, step=0.05, description='Beta'),\n",
    "    sigma=FloatSlider(value=0.2, min=0.00, max=1.0, step=0.05, description='Sigma'),\n",
    "    gamma=FloatSlider(value=0.1, min=0.00, max=1.0, step=0.05, description='Gamma')\n",
    ");"
   ]
  },
  {
   "cell_type": "markdown",
   "metadata": {},
   "source": [
    "# Model SEPNS"
   ]
  },
  {
   "cell_type": "code",
   "execution_count": 6,
   "metadata": {},
   "outputs": [
    {
     "data": {
      "application/vnd.jupyter.widget-view+json": {
       "model_id": "3576882c924a4bfeae7d724fdedf000d",
       "version_major": 2,
       "version_minor": 0
      },
      "text/plain": [
       "interactive(children=(FloatSlider(value=0.4, description='Beta', max=1.0, step=0.05), FloatSlider(value=0.3, d…"
      ]
     },
     "metadata": {},
     "output_type": "display_data"
    }
   ],
   "source": [
    "def sepns_model(y, t, beta, gamma_p, gamma_n, sigma_p, sigma_n, N):\n",
    "    S, E, P, N_inf = y\n",
    "    dSdt = -beta * S * P / N + sigma_p * P + sigma_n * N_inf  # Spadek liczby podatnych + pwrót pozytywnie zarażonych + powrót negatywnie zarażonych\n",
    "    dEdt = beta * S * P  / N - gamma_p * E - gamma_n * E # Wzrost liczby narażonych - przejście do stadium zakaźnego pozytywnego - przejście do stadium zkaźnego negatywnego\n",
    "    dPdt = gamma_p * E - sigma_p * P  # Przejście do pozytywnie zakażonych - powrót do podatnych\n",
    "    dNdt =  gamma_n * E - sigma_n * N_inf  # Przejście do negatywnie zakażonych - powrót do podatnych\n",
    "    return [dSdt, dEdt, dPdt, dNdt]\n",
    "\n",
    "# Parametry\n",
    "N = 1000   # Całkowita populacja\n",
    "E0 = 20    # Początkowa liczba osób narażonych\n",
    "P0 = 10     # Początkowa liczba pozytywnie zakażonych\n",
    "N0 = 0     # Początkowa liczba negatywnie zakażonych\n",
    "S0 = N - E0 - P0 - N0  # Początkowa liczba podatnych\n",
    "\n",
    "# Przedział czasowy symulacji\n",
    "t = np.linspace(0, 200, 10000)\n",
    "\n",
    "def plot_sepns(beta, gamma_p, gamma_n, sigma_p, sigma_n):\n",
    "    solution = odeint(sepns_model, [S0, E0, P0, N0], t, args=(beta, gamma_p, gamma_n, sigma_p, sigma_n, N))\n",
    "    S, E, P, N_inf = solution.T\n",
    "\n",
    "    plt.figure(figsize=(10, 6))\n",
    "    plt.plot(t, S, label='Susceptible (Podatni)', color='blue')\n",
    "    plt.plot(t, E, label='Exposed (Narażeni)', color='orange')\n",
    "    plt.plot(t, P, label='Positively Infected (Pozytywnie zarażeni)', color='red')\n",
    "    plt.plot(t, N_inf, label='Negatively Infected (Negatywnie zarażeni)', color='purple')\n",
    "    plt.xlabel('Czas')\n",
    "    plt.ylabel('Liczność populacji')\n",
    "    plt.title(f'Model SEPNS')\n",
    "    plt.legend()\n",
    "    plt.grid(True)\n",
    "    plt.show()\n",
    "\n",
    "interact(\n",
    "    plot_sepns,\n",
    "    beta=FloatSlider(value=0.4, min=0.00, max=1.0, step=0.05, description='Beta'),\n",
    "    gamma_p=FloatSlider(value=0.3, min=0.00, max=1.0, step=0.05, description='Gamma_p'),\n",
    "    gamma_n=FloatSlider(value=0.05, min=0.00, max=1.0, step=0.05, description='Gamma_n'),\n",
    "    sigma_p=FloatSlider(value=0.05, min=0.00, max=1.0, step=0.05, description='Sigma_p'),\n",
    "    sigma_n=FloatSlider(value=0.1, min=0.00, max=1.0, step=0.05, description='Sigma_n')\n",
    ");"
   ]
  },
  {
   "cell_type": "markdown",
   "metadata": {},
   "source": [
    "# Model SEDIS"
   ]
  },
  {
   "cell_type": "code",
   "execution_count": 7,
   "metadata": {},
   "outputs": [
    {
     "data": {
      "application/vnd.jupyter.widget-view+json": {
       "model_id": "0921345810a6423088de77dc83f92323",
       "version_major": 2,
       "version_minor": 0
      },
      "text/plain": [
       "interactive(children=(FloatSlider(value=0.3, description='α (transmisja)', max=1.0, min=0.01, step=0.01), Floa…"
      ]
     },
     "metadata": {},
     "output_type": "display_data"
    }
   ],
   "source": [
    "def sedis_model(y, t, alfa, beta_i, beta_d, gamma, mu1, mu2, mu3, N):\n",
    "    S, E, D, I = y\n",
    "    dSdt = -alfa * S * E / N + mu1 * E * S / N + mu2 * D * S / N + mu3 * I * S / N # Podatni\n",
    "    dEdt = alfa * S * E / N - beta_i * E * I / N - beta_d * E * D / N - mu1 * E * S / N  # Eksponowani\n",
    "    dDdt = beta_d * E * D / N - gamma * D * I / N - mu2 * D * S / N # Wątpiący\n",
    "    dIdt = gamma * D * I / N + beta_i * I * E / N - mu3 * I * S / N # Zainfekowani\n",
    "    return [dSdt, dEdt, dDdt, dIdt]\n",
    "\n",
    "# Parametry\n",
    "N = 1000   # Całkowita populacja\n",
    "E0 = 5     # Początkowa liczba eksponowanych\n",
    "D0 = 3     # Początkowa liczba wątpiących\n",
    "I0 = 2     # Początkowa liczba zakażonych\n",
    "S0 = N - E0 - D0 - I0  # Początkowa liczba podatnych\n",
    "\n",
    "# Przedział czasowy symulacji\n",
    "t = np.linspace(0, 200, 10000)\n",
    "\n",
    "def plot_sedis(alfa, beta_i, beta_d, gamma, mu1, mu2, mu3):\n",
    "    solution = odeint(sedis_model, [S0, E0, D0, I0], t, args=(alfa, beta_i, beta_d, gamma, mu1, mu2, mu3, N))\n",
    "    S, E, D, I = solution.T\n",
    "\n",
    "    plt.figure(figsize=(10, 6))\n",
    "    plt.plot(t, S, label='Susceptible (Podatni)', color='blue')\n",
    "    plt.plot(t, E, label='Exposed (Narażeni)', color='orange')\n",
    "    plt.plot(t, D, label='Doubtful (Wątpiący)', color='gray')\n",
    "    plt.plot(t, I, label='Infected (Zarażeni)', color='red')\n",
    "    plt.xlabel('Czas')\n",
    "    plt.ylabel('Liczność populacji')\n",
    "    plt.title(f'Model SEDIS')\n",
    "    plt.grid(True)\n",
    "    plt.legend()\n",
    "    plt.show()\n",
    "\n",
    "interact(\n",
    "    plot_sedis,\n",
    "    alfa=FloatSlider(value=0.3, min=0.01, max=1.0, step=0.01, description='α (transmisja)'),\n",
    "    beta_i=FloatSlider(value=0.2, min=0.01, max=1.0, step=0.01, description='βi (E→I)'),\n",
    "    beta_d=FloatSlider(value=0.1, min=0.01, max=1.0, step=0.01, description='βd (E→D)'),\n",
    "    gamma=FloatSlider(value=0.05, min=0.01, max=1.0, step=0.01, description='γ (D→I)'),\n",
    "    mu1=FloatSlider(value=0.01, min=0.0, max=0.2, step=0.005, description='μ1 (E→S)'),\n",
    "    mu2=FloatSlider(value=0.01, min=0.0, max=0.2, step=0.005, description='μ2 (D→S)'),\n",
    "    mu3=FloatSlider(value=0.01, min=0.0, max=0.2, step=0.005, description='μ3 (I→S)')\n",
    ");"
   ]
  },
  {
   "cell_type": "markdown",
   "metadata": {},
   "source": [
    "# Model SEDPRN"
   ]
  },
  {
   "cell_type": "code",
   "execution_count": 8,
   "metadata": {},
   "outputs": [
    {
     "data": {
      "application/vnd.jupyter.widget-view+json": {
       "model_id": "58b0dccd35e847148b17503964cc7241",
       "version_major": 2,
       "version_minor": 0
      },
      "text/plain": [
       "interactive(children=(FloatSlider(value=0.2, description='α (S→E)', max=1.0, step=0.01), FloatSlider(value=0.3…"
      ]
     },
     "metadata": {},
     "output_type": "display_data"
    }
   ],
   "source": [
    "def sedpnr_model(alpha, beta_1, beta_2, beta_3, beta_4, mu_1, mu_2, lambda_1, lambda_2):\n",
    "    N = 1000\n",
    "    T = 50  \n",
    "\n",
    "    # Inicjalizacja stanów\n",
    "    states = np.random.choice(['S', 'E', 'D', 'P', 'N', 'R'], N, p=[0.6, 0.1, 0.1, 0.05, 0.1, 0.05])\n",
    "    history = {'S': [], 'E': [], 'D': [], 'P': [], 'N': [], 'R': []}\n",
    "\n",
    "    for t in range(T):\n",
    "        new_states = states.copy()\n",
    "        for i in range(N):\n",
    "            if states[i] == 'S':\n",
    "                if np.random.rand() < alpha:\n",
    "                    new_states[i] = 'E'\n",
    "\n",
    "            elif states[i] == 'E':\n",
    "                rand_val = np.random.rand()\n",
    "                if rand_val < beta_1:\n",
    "                    new_states[i] = 'P'\n",
    "                elif rand_val < beta_1 + beta_2:\n",
    "                    new_states[i] = 'N'\n",
    "                elif rand_val < beta_1 + beta_2 + mu_1:\n",
    "                    new_states[i] = 'S'\n",
    "                elif rand_val < beta_1 + beta_2 + mu_1 + beta_3:\n",
    "                    new_states[i] = 'D'\n",
    "\n",
    "            elif states[i] == 'D':\n",
    "                rand_val = np.random.rand()\n",
    "                if rand_val < beta_3:\n",
    "                    new_states[i] = 'P'\n",
    "                elif rand_val < beta_3 + beta_4:\n",
    "                    new_states[i] = 'N'\n",
    "                elif rand_val < beta_3 + beta_4 + mu_2:\n",
    "                    new_states[i] = 'S'\n",
    "\n",
    "            elif states[i] == 'P':\n",
    "                if np.random.rand() < lambda_1:\n",
    "                    new_states[i] = 'R'\n",
    "\n",
    "            elif states[i] == 'N':\n",
    "                if np.random.rand() < lambda_2:\n",
    "                    new_states[i] = 'R'\n",
    "\n",
    "        states = new_states.copy()\n",
    "        for state in history.keys():\n",
    "            history[state].append(np.sum(states == state))\n",
    "\n",
    "   \n",
    "    plt.figure(figsize=(10, 6))\n",
    "    for state, counts in history.items():\n",
    "        plt.plot(range(T), counts, label=state)\n",
    "    plt.xlabel(\"Czas\")\n",
    "    plt.ylabel(\"Liczność populacji\")\n",
    "    plt.title(\"Dynamika stanów w modelu SEDPNR\")\n",
    "    plt.legend()\n",
    "    plt.grid(True)\n",
    "    plt.show()\n",
    "\n",
    "\n",
    "interact(\n",
    "    sedpnr_model,\n",
    "    alpha=FloatSlider(value=0.2, min=0.0, max=1.0, step=0.01, description='α (S→E)'),\n",
    "    beta_1=FloatSlider(value=0.3, min=0.0, max=1.0, step=0.01, description='β1 (E→P)'),\n",
    "    beta_2=FloatSlider(value=0.1, min=0.0, max=1.0, step=0.01, description='β2 (E→N)'),\n",
    "    beta_3=FloatSlider(value=0.25, min=0.0, max=1.0, step=0.01, description='β3 (E→D / D→P)'),\n",
    "    beta_4=FloatSlider(value=0.15, min=0.0, max=1.0, step=0.01, description='β4 (D→N)'),\n",
    "    mu_1=FloatSlider(value=0.05, min=0.0, max=0.2, step=0.01, description='μ1 (E→S)'),\n",
    "    mu_2=FloatSlider(value=0.05, min=0.0, max=0.2, step=0.01, description='μ2 (D→S)'),\n",
    "    lambda_1=FloatSlider(value=0.1, min=0.0, max=0.5, step=0.01, description='λ1 (P→R)'),\n",
    "    lambda_2=FloatSlider(value=0.1, min=0.0, max=0.5, step=0.01, description='λ2 (N→R)')\n",
    ");"
   ]
  }
 ],
 "metadata": {
  "kernelspec": {
   "display_name": "Python 3",
   "language": "python",
   "name": "python3"
  },
  "language_info": {
   "codemirror_mode": {
    "name": "ipython",
    "version": 3
   },
   "file_extension": ".py",
   "mimetype": "text/x-python",
   "name": "python",
   "nbconvert_exporter": "python",
   "pygments_lexer": "ipython3",
   "version": "3.8.10"
  }
 },
 "nbformat": 4,
 "nbformat_minor": 2
}
